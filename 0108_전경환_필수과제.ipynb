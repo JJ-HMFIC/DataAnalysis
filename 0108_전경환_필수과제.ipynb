{
 "cells": [
  {
   "cell_type": "markdown",
   "id": "c4219f3e",
   "metadata": {},
   "source": [
    "### 필수과제 1.\n",
    "### offsets ,first  외 다양한 문법들 찾아보기! 5개 이상 찾기\n",
    "- 시계열데이터 문법, 직장인들 일하는 날 \n",
    "- 필수 과제는 구글링\n",
    "\n",
    "- 유용한 문법을 공유해 주세요!"
   ]
  },
  {
   "cell_type": "code",
   "execution_count": null,
   "id": "d7d0ed07",
   "metadata": {},
   "outputs": [],
   "source": [
    "1"
   ]
  },
  {
   "cell_type": "code",
   "execution_count": 8,
   "id": "804c3013",
   "metadata": {},
   "outputs": [],
   "source": [
    "import pandas as pd\n",
    "from datetime import datetime "
   ]
  },
  {
   "cell_type": "code",
   "execution_count": 9,
   "id": "2bd45edc",
   "metadata": {},
   "outputs": [],
   "source": [
    "today = datetime.now()"
   ]
  },
  {
   "cell_type": "code",
   "execution_count": 10,
   "id": "b7ce4112",
   "metadata": {},
   "outputs": [
    {
     "data": {
      "text/plain": [
       "datetime.datetime(2023, 1, 8, 17, 36, 47, 383513)"
      ]
     },
     "execution_count": 10,
     "metadata": {},
     "output_type": "execute_result"
    }
   ],
   "source": [
    "today"
   ]
  },
  {
   "cell_type": "code",
   "execution_count": 16,
   "id": "cf050c7c",
   "metadata": {
    "scrolled": true
   },
   "outputs": [
    {
     "data": {
      "text/plain": [
       "2023"
      ]
     },
     "metadata": {},
     "output_type": "display_data"
    },
    {
     "data": {
      "text/plain": [
       "1"
      ]
     },
     "metadata": {},
     "output_type": "display_data"
    },
    {
     "data": {
      "text/plain": [
       "8"
      ]
     },
     "metadata": {},
     "output_type": "display_data"
    }
   ],
   "source": [
    "display(today.year)\n",
    "display(today.month)\n",
    "display(today.day)"
   ]
  },
  {
   "cell_type": "code",
   "execution_count": null,
   "id": "c7f92074",
   "metadata": {},
   "outputs": [],
   "source": [
    "2"
   ]
  },
  {
   "cell_type": "code",
   "execution_count": 18,
   "id": "7702a78c",
   "metadata": {},
   "outputs": [],
   "source": [
    "start = datetime(2019,5,13)\n",
    "fin = datetime(2020,12,12)"
   ]
  },
  {
   "cell_type": "code",
   "execution_count": 19,
   "id": "3a3466db",
   "metadata": {},
   "outputs": [],
   "source": [
    "from datetime import timedelta"
   ]
  },
  {
   "cell_type": "code",
   "execution_count": 20,
   "id": "4e9552bc",
   "metadata": {
    "scrolled": true
   },
   "outputs": [
    {
     "data": {
      "text/plain": [
       "datetime.datetime(2019, 8, 21, 0, 0)"
      ]
     },
     "execution_count": 20,
     "metadata": {},
     "output_type": "execute_result"
    }
   ],
   "source": [
    "start + timedelta(100)"
   ]
  },
  {
   "cell_type": "code",
   "execution_count": 21,
   "id": "3a33b4e2",
   "metadata": {},
   "outputs": [
    {
     "data": {
      "text/plain": [
       "datetime.datetime(2020, 9, 3, 0, 0)"
      ]
     },
     "execution_count": 21,
     "metadata": {},
     "output_type": "execute_result"
    }
   ],
   "source": [
    "fin - timedelta(100)"
   ]
  },
  {
   "cell_type": "code",
   "execution_count": null,
   "id": "2940f73b",
   "metadata": {},
   "outputs": [],
   "source": [
    "3"
   ]
  },
  {
   "cell_type": "code",
   "execution_count": 28,
   "id": "f2a26354",
   "metadata": {},
   "outputs": [
    {
     "data": {
      "text/plain": [
       "'Monday'"
      ]
     },
     "execution_count": 28,
     "metadata": {},
     "output_type": "execute_result"
    }
   ],
   "source": [
    "start = '2019/05/13'\n",
    "t1 = datetime.strptime(start, '%Y/%m/%d')\n",
    "t1.strftime('%A') #datetime object 적용 가능(메서드 형식)"
   ]
  },
  {
   "cell_type": "code",
   "execution_count": null,
   "id": "b5442fc1",
   "metadata": {},
   "outputs": [],
   "source": [
    "4"
   ]
  },
  {
   "cell_type": "code",
   "execution_count": 30,
   "id": "6541832a",
   "metadata": {},
   "outputs": [
    {
     "data": {
      "text/plain": [
       "DatetimeIndex(['2022-12-01', '2022-12-02', '2022-12-03', '2022-12-04',\n",
       "               '2022-12-05', '2022-12-06', '2022-12-07', '2022-12-08',\n",
       "               '2022-12-09', '2022-12-10', '2022-12-11', '2022-12-12',\n",
       "               '2022-12-13', '2022-12-14', '2022-12-15'],\n",
       "              dtype='datetime64[ns]', freq='D')"
      ]
     },
     "execution_count": 30,
     "metadata": {},
     "output_type": "execute_result"
    }
   ],
   "source": [
    "pd.date_range(\"2022-12-1\", \"2022-12-15\") #전체"
   ]
  },
  {
   "cell_type": "code",
   "execution_count": 31,
   "id": "97c42539",
   "metadata": {},
   "outputs": [
    {
     "data": {
      "text/plain": [
       "DatetimeIndex(['2022-12-01', '2022-12-02', '2022-12-05', '2022-12-06',\n",
       "               '2022-12-07', '2022-12-08', '2022-12-09', '2022-12-12',\n",
       "               '2022-12-13', '2022-12-14', '2022-12-15'],\n",
       "              dtype='datetime64[ns]', freq='B')"
      ]
     },
     "execution_count": 31,
     "metadata": {},
     "output_type": "execute_result"
    }
   ],
   "source": [
    "pd.date_range(\"2022-12-1\", \"2022-12-15\", freq=\"B\") #평일"
   ]
  },
  {
   "cell_type": "code",
   "execution_count": 33,
   "id": "05b7a402",
   "metadata": {
    "scrolled": true
   },
   "outputs": [
    {
     "data": {
      "text/plain": [
       "DatetimeIndex(['2022-12-04', '2022-12-11'], dtype='datetime64[ns]', freq='W-SUN')"
      ]
     },
     "execution_count": 33,
     "metadata": {},
     "output_type": "execute_result"
    }
   ],
   "source": [
    "pd.date_range(\"2022-12-1\", \"2022-12-15\", freq=\"W\") # 주말"
   ]
  },
  {
   "cell_type": "code",
   "execution_count": null,
   "id": "776ffc13",
   "metadata": {},
   "outputs": [],
   "source": [
    "5"
   ]
  },
  {
   "cell_type": "code",
   "execution_count": 36,
   "id": "3fe836b5",
   "metadata": {},
   "outputs": [],
   "source": [
    "birth = pd.to_datetime(\"1998-12-07\")"
   ]
  },
  {
   "cell_type": "code",
   "execution_count": 37,
   "id": "1a60f909",
   "metadata": {},
   "outputs": [],
   "source": [
    "add_year = pd.DateOffset(years=1)"
   ]
  },
  {
   "cell_type": "code",
   "execution_count": 38,
   "id": "2c9ff621",
   "metadata": {},
   "outputs": [
    {
     "data": {
      "text/plain": [
       "Timestamp('1999-12-07 00:00:00')"
      ]
     },
     "execution_count": 38,
     "metadata": {},
     "output_type": "execute_result"
    }
   ],
   "source": [
    "birth + add_year"
   ]
  },
  {
   "cell_type": "code",
   "execution_count": 41,
   "id": "c548af59",
   "metadata": {},
   "outputs": [],
   "source": [
    "add_11_mon = pd.DateOffset(month=11)"
   ]
  },
  {
   "cell_type": "code",
   "execution_count": 42,
   "id": "e7a8d38a",
   "metadata": {},
   "outputs": [
    {
     "data": {
      "text/plain": [
       "Timestamp('1998-11-07 00:00:00')"
      ]
     },
     "execution_count": 42,
     "metadata": {},
     "output_type": "execute_result"
    }
   ],
   "source": [
    "birth + add_11_mon"
   ]
  },
  {
   "cell_type": "code",
   "execution_count": 2,
   "id": "863d1b26",
   "metadata": {},
   "outputs": [],
   "source": [
    "import pandas as pd\n",
    "import numpy as np"
   ]
  },
  {
   "cell_type": "markdown",
   "id": "6c7ebe47",
   "metadata": {},
   "source": [
    "## 필수과제2\n",
    "- 시계열데이터를 가지고 요일을 추출하는 것을 구글링해서 컬럼을 만들어주세요!\n",
    "- 요일컬럼 만들어서 공유!"
   ]
  },
  {
   "cell_type": "code",
   "execution_count": 3,
   "id": "abbdf13d",
   "metadata": {},
   "outputs": [],
   "source": [
    "crime=pd.read_csv('crime.csv')"
   ]
  },
  {
   "cell_type": "code",
   "execution_count": 4,
   "id": "f470462b",
   "metadata": {},
   "outputs": [
    {
     "data": {
      "text/html": [
       "<div>\n",
       "<style scoped>\n",
       "    .dataframe tbody tr th:only-of-type {\n",
       "        vertical-align: middle;\n",
       "    }\n",
       "\n",
       "    .dataframe tbody tr th {\n",
       "        vertical-align: top;\n",
       "    }\n",
       "\n",
       "    .dataframe thead th {\n",
       "        text-align: right;\n",
       "    }\n",
       "</style>\n",
       "<table border=\"1\" class=\"dataframe\">\n",
       "  <thead>\n",
       "    <tr style=\"text-align: right;\">\n",
       "      <th></th>\n",
       "      <th>Unnamed: 0</th>\n",
       "      <th>OFFENSE_TYPE_ID</th>\n",
       "      <th>OFFENSE_CATEGORY_ID</th>\n",
       "      <th>REPORTED_DATE</th>\n",
       "      <th>GEO_LON</th>\n",
       "      <th>GEO_LAT</th>\n",
       "      <th>NEIGHBORHOOD_ID</th>\n",
       "      <th>IS_CRIME</th>\n",
       "      <th>IS_TRAFFIC</th>\n",
       "    </tr>\n",
       "  </thead>\n",
       "  <tbody>\n",
       "    <tr>\n",
       "      <th>0</th>\n",
       "      <td>0</td>\n",
       "      <td>traffic-accident-dui-duid</td>\n",
       "      <td>traffic-accident</td>\n",
       "      <td>2014-06-29 02:01:00</td>\n",
       "      <td>-105.000149</td>\n",
       "      <td>39.745753</td>\n",
       "      <td>cbd</td>\n",
       "      <td>0</td>\n",
       "      <td>1</td>\n",
       "    </tr>\n",
       "    <tr>\n",
       "      <th>1</th>\n",
       "      <td>1</td>\n",
       "      <td>vehicular-eluding-no-chase</td>\n",
       "      <td>all-other-crimes</td>\n",
       "      <td>2014-06-29 01:54:00</td>\n",
       "      <td>-104.884660</td>\n",
       "      <td>39.738702</td>\n",
       "      <td>east-colfax</td>\n",
       "      <td>1</td>\n",
       "      <td>0</td>\n",
       "    </tr>\n",
       "    <tr>\n",
       "      <th>2</th>\n",
       "      <td>2</td>\n",
       "      <td>disturbing-the-peace</td>\n",
       "      <td>public-disorder</td>\n",
       "      <td>2014-06-29 02:00:00</td>\n",
       "      <td>-105.020719</td>\n",
       "      <td>39.706674</td>\n",
       "      <td>athmar-park</td>\n",
       "      <td>1</td>\n",
       "      <td>0</td>\n",
       "    </tr>\n",
       "    <tr>\n",
       "      <th>3</th>\n",
       "      <td>3</td>\n",
       "      <td>curfew</td>\n",
       "      <td>public-disorder</td>\n",
       "      <td>2014-06-29 02:18:00</td>\n",
       "      <td>-105.001552</td>\n",
       "      <td>39.769505</td>\n",
       "      <td>sunnyside</td>\n",
       "      <td>1</td>\n",
       "      <td>0</td>\n",
       "    </tr>\n",
       "    <tr>\n",
       "      <th>4</th>\n",
       "      <td>4</td>\n",
       "      <td>aggravated-assault</td>\n",
       "      <td>aggravated-assault</td>\n",
       "      <td>2014-06-29 04:17:00</td>\n",
       "      <td>-105.018557</td>\n",
       "      <td>39.679229</td>\n",
       "      <td>college-view-south-platte</td>\n",
       "      <td>1</td>\n",
       "      <td>0</td>\n",
       "    </tr>\n",
       "    <tr>\n",
       "      <th>...</th>\n",
       "      <td>...</td>\n",
       "      <td>...</td>\n",
       "      <td>...</td>\n",
       "      <td>...</td>\n",
       "      <td>...</td>\n",
       "      <td>...</td>\n",
       "      <td>...</td>\n",
       "      <td>...</td>\n",
       "      <td>...</td>\n",
       "    </tr>\n",
       "    <tr>\n",
       "      <th>460906</th>\n",
       "      <td>460906</td>\n",
       "      <td>burglary-business-by-force</td>\n",
       "      <td>burglary</td>\n",
       "      <td>2017-09-13 05:48:00</td>\n",
       "      <td>-105.033840</td>\n",
       "      <td>39.762365</td>\n",
       "      <td>west-highland</td>\n",
       "      <td>1</td>\n",
       "      <td>0</td>\n",
       "    </tr>\n",
       "    <tr>\n",
       "      <th>460907</th>\n",
       "      <td>460907</td>\n",
       "      <td>weapon-unlawful-discharge-of</td>\n",
       "      <td>all-other-crimes</td>\n",
       "      <td>2017-09-12 20:37:00</td>\n",
       "      <td>-105.040313</td>\n",
       "      <td>39.721264</td>\n",
       "      <td>barnum-west</td>\n",
       "      <td>1</td>\n",
       "      <td>0</td>\n",
       "    </tr>\n",
       "    <tr>\n",
       "      <th>460908</th>\n",
       "      <td>460908</td>\n",
       "      <td>traf-habitual-offender</td>\n",
       "      <td>all-other-crimes</td>\n",
       "      <td>2017-09-12 16:32:00</td>\n",
       "      <td>-104.847024</td>\n",
       "      <td>39.779596</td>\n",
       "      <td>montbello</td>\n",
       "      <td>1</td>\n",
       "      <td>0</td>\n",
       "    </tr>\n",
       "    <tr>\n",
       "      <th>460909</th>\n",
       "      <td>460909</td>\n",
       "      <td>criminal-mischief-other</td>\n",
       "      <td>public-disorder</td>\n",
       "      <td>2017-09-12 13:04:00</td>\n",
       "      <td>-104.949183</td>\n",
       "      <td>39.756353</td>\n",
       "      <td>skyland</td>\n",
       "      <td>1</td>\n",
       "      <td>0</td>\n",
       "    </tr>\n",
       "    <tr>\n",
       "      <th>460910</th>\n",
       "      <td>460910</td>\n",
       "      <td>theft-other</td>\n",
       "      <td>larceny</td>\n",
       "      <td>2017-09-12 09:30:00</td>\n",
       "      <td>-104.985739</td>\n",
       "      <td>39.735045</td>\n",
       "      <td>capitol-hill</td>\n",
       "      <td>1</td>\n",
       "      <td>0</td>\n",
       "    </tr>\n",
       "  </tbody>\n",
       "</table>\n",
       "<p>460911 rows × 9 columns</p>\n",
       "</div>"
      ],
      "text/plain": [
       "        Unnamed: 0               OFFENSE_TYPE_ID OFFENSE_CATEGORY_ID  \\\n",
       "0                0     traffic-accident-dui-duid    traffic-accident   \n",
       "1                1    vehicular-eluding-no-chase    all-other-crimes   \n",
       "2                2          disturbing-the-peace     public-disorder   \n",
       "3                3                        curfew     public-disorder   \n",
       "4                4            aggravated-assault  aggravated-assault   \n",
       "...            ...                           ...                 ...   \n",
       "460906      460906    burglary-business-by-force            burglary   \n",
       "460907      460907  weapon-unlawful-discharge-of    all-other-crimes   \n",
       "460908      460908        traf-habitual-offender    all-other-crimes   \n",
       "460909      460909       criminal-mischief-other     public-disorder   \n",
       "460910      460910                   theft-other             larceny   \n",
       "\n",
       "              REPORTED_DATE     GEO_LON    GEO_LAT            NEIGHBORHOOD_ID  \\\n",
       "0       2014-06-29 02:01:00 -105.000149  39.745753                        cbd   \n",
       "1       2014-06-29 01:54:00 -104.884660  39.738702                east-colfax   \n",
       "2       2014-06-29 02:00:00 -105.020719  39.706674                athmar-park   \n",
       "3       2014-06-29 02:18:00 -105.001552  39.769505                  sunnyside   \n",
       "4       2014-06-29 04:17:00 -105.018557  39.679229  college-view-south-platte   \n",
       "...                     ...         ...        ...                        ...   \n",
       "460906  2017-09-13 05:48:00 -105.033840  39.762365              west-highland   \n",
       "460907  2017-09-12 20:37:00 -105.040313  39.721264                barnum-west   \n",
       "460908  2017-09-12 16:32:00 -104.847024  39.779596                  montbello   \n",
       "460909  2017-09-12 13:04:00 -104.949183  39.756353                    skyland   \n",
       "460910  2017-09-12 09:30:00 -104.985739  39.735045               capitol-hill   \n",
       "\n",
       "        IS_CRIME  IS_TRAFFIC  \n",
       "0              0           1  \n",
       "1              1           0  \n",
       "2              1           0  \n",
       "3              1           0  \n",
       "4              1           0  \n",
       "...          ...         ...  \n",
       "460906         1           0  \n",
       "460907         1           0  \n",
       "460908         1           0  \n",
       "460909         1           0  \n",
       "460910         1           0  \n",
       "\n",
       "[460911 rows x 9 columns]"
      ]
     },
     "execution_count": 4,
     "metadata": {},
     "output_type": "execute_result"
    }
   ],
   "source": [
    "crime"
   ]
  },
  {
   "cell_type": "code",
   "execution_count": 44,
   "id": "2fb90ab4",
   "metadata": {},
   "outputs": [],
   "source": [
    "crime['REPORTED_DATE'] = pd.to_datetime(crime['REPORTED_DATE'])"
   ]
  },
  {
   "cell_type": "code",
   "execution_count": 46,
   "id": "617f40f6",
   "metadata": {},
   "outputs": [],
   "source": [
    "crime_tmp = crime.set_index('REPORTED_DATE').sort_index()"
   ]
  },
  {
   "cell_type": "code",
   "execution_count": 47,
   "id": "8fb3e1b1",
   "metadata": {},
   "outputs": [
    {
     "data": {
      "text/html": [
       "<div>\n",
       "<style scoped>\n",
       "    .dataframe tbody tr th:only-of-type {\n",
       "        vertical-align: middle;\n",
       "    }\n",
       "\n",
       "    .dataframe tbody tr th {\n",
       "        vertical-align: top;\n",
       "    }\n",
       "\n",
       "    .dataframe thead th {\n",
       "        text-align: right;\n",
       "    }\n",
       "</style>\n",
       "<table border=\"1\" class=\"dataframe\">\n",
       "  <thead>\n",
       "    <tr style=\"text-align: right;\">\n",
       "      <th></th>\n",
       "      <th>Unnamed: 0</th>\n",
       "      <th>OFFENSE_TYPE_ID</th>\n",
       "      <th>OFFENSE_CATEGORY_ID</th>\n",
       "      <th>GEO_LON</th>\n",
       "      <th>GEO_LAT</th>\n",
       "      <th>NEIGHBORHOOD_ID</th>\n",
       "      <th>IS_CRIME</th>\n",
       "      <th>IS_TRAFFIC</th>\n",
       "    </tr>\n",
       "    <tr>\n",
       "      <th>REPORTED_DATE</th>\n",
       "      <th></th>\n",
       "      <th></th>\n",
       "      <th></th>\n",
       "      <th></th>\n",
       "      <th></th>\n",
       "      <th></th>\n",
       "      <th></th>\n",
       "      <th></th>\n",
       "    </tr>\n",
       "  </thead>\n",
       "  <tbody>\n",
       "    <tr>\n",
       "      <th>2012-01-02 00:06:00</th>\n",
       "      <td>414815</td>\n",
       "      <td>aggravated-assault</td>\n",
       "      <td>aggravated-assault</td>\n",
       "      <td>-104.816860</td>\n",
       "      <td>39.796717</td>\n",
       "      <td>montbello</td>\n",
       "      <td>1</td>\n",
       "      <td>0</td>\n",
       "    </tr>\n",
       "    <tr>\n",
       "      <th>2012-01-02 00:06:00</th>\n",
       "      <td>47176</td>\n",
       "      <td>violation-of-restraining-order</td>\n",
       "      <td>all-other-crimes</td>\n",
       "      <td>-104.816860</td>\n",
       "      <td>39.796717</td>\n",
       "      <td>montbello</td>\n",
       "      <td>1</td>\n",
       "      <td>0</td>\n",
       "    </tr>\n",
       "    <tr>\n",
       "      <th>2012-01-02 00:16:00</th>\n",
       "      <td>75798</td>\n",
       "      <td>traffic-accident-dui-duid</td>\n",
       "      <td>traffic-accident</td>\n",
       "      <td>-104.971851</td>\n",
       "      <td>39.736874</td>\n",
       "      <td>cheesman-park</td>\n",
       "      <td>0</td>\n",
       "      <td>1</td>\n",
       "    </tr>\n",
       "    <tr>\n",
       "      <th>2012-01-02 00:47:00</th>\n",
       "      <td>46063</td>\n",
       "      <td>traffic-accident</td>\n",
       "      <td>traffic-accident</td>\n",
       "      <td>-104.951824</td>\n",
       "      <td>39.740168</td>\n",
       "      <td>congress-park</td>\n",
       "      <td>0</td>\n",
       "      <td>1</td>\n",
       "    </tr>\n",
       "    <tr>\n",
       "      <th>2012-01-02 01:35:00</th>\n",
       "      <td>435334</td>\n",
       "      <td>aggravated-assault</td>\n",
       "      <td>aggravated-assault</td>\n",
       "      <td>-104.998131</td>\n",
       "      <td>39.749922</td>\n",
       "      <td>union-station</td>\n",
       "      <td>1</td>\n",
       "      <td>0</td>\n",
       "    </tr>\n",
       "    <tr>\n",
       "      <th>...</th>\n",
       "      <td>...</td>\n",
       "      <td>...</td>\n",
       "      <td>...</td>\n",
       "      <td>...</td>\n",
       "      <td>...</td>\n",
       "      <td>...</td>\n",
       "      <td>...</td>\n",
       "      <td>...</td>\n",
       "    </tr>\n",
       "    <tr>\n",
       "      <th>2017-09-29 03:58:00</th>\n",
       "      <td>454315</td>\n",
       "      <td>traf-other</td>\n",
       "      <td>all-other-crimes</td>\n",
       "      <td>-104.994817</td>\n",
       "      <td>39.768043</td>\n",
       "      <td>globeville</td>\n",
       "      <td>1</td>\n",
       "      <td>0</td>\n",
       "    </tr>\n",
       "    <tr>\n",
       "      <th>2017-09-29 03:58:00</th>\n",
       "      <td>454304</td>\n",
       "      <td>burglary-business-by-force</td>\n",
       "      <td>burglary</td>\n",
       "      <td>-104.987803</td>\n",
       "      <td>39.681199</td>\n",
       "      <td>overland</td>\n",
       "      <td>1</td>\n",
       "      <td>0</td>\n",
       "    </tr>\n",
       "    <tr>\n",
       "      <th>2017-09-29 04:12:00</th>\n",
       "      <td>454656</td>\n",
       "      <td>traf-other</td>\n",
       "      <td>all-other-crimes</td>\n",
       "      <td>-105.006426</td>\n",
       "      <td>39.783139</td>\n",
       "      <td>sunnyside</td>\n",
       "      <td>1</td>\n",
       "      <td>0</td>\n",
       "    </tr>\n",
       "    <tr>\n",
       "      <th>2017-09-29 04:12:00</th>\n",
       "      <td>455301</td>\n",
       "      <td>drug-pcs-other-drug</td>\n",
       "      <td>drug-alcohol</td>\n",
       "      <td>-105.048416</td>\n",
       "      <td>39.726209</td>\n",
       "      <td>villa-park</td>\n",
       "      <td>1</td>\n",
       "      <td>0</td>\n",
       "    </tr>\n",
       "    <tr>\n",
       "      <th>2017-09-29 06:16:00</th>\n",
       "      <td>453457</td>\n",
       "      <td>theft-of-motor-vehicle</td>\n",
       "      <td>auto-theft</td>\n",
       "      <td>-104.890269</td>\n",
       "      <td>39.657222</td>\n",
       "      <td>hampden</td>\n",
       "      <td>1</td>\n",
       "      <td>0</td>\n",
       "    </tr>\n",
       "  </tbody>\n",
       "</table>\n",
       "<p>460911 rows × 8 columns</p>\n",
       "</div>"
      ],
      "text/plain": [
       "                     Unnamed: 0                 OFFENSE_TYPE_ID  \\\n",
       "REPORTED_DATE                                                     \n",
       "2012-01-02 00:06:00      414815              aggravated-assault   \n",
       "2012-01-02 00:06:00       47176  violation-of-restraining-order   \n",
       "2012-01-02 00:16:00       75798       traffic-accident-dui-duid   \n",
       "2012-01-02 00:47:00       46063                traffic-accident   \n",
       "2012-01-02 01:35:00      435334              aggravated-assault   \n",
       "...                         ...                             ...   \n",
       "2017-09-29 03:58:00      454315                      traf-other   \n",
       "2017-09-29 03:58:00      454304      burglary-business-by-force   \n",
       "2017-09-29 04:12:00      454656                      traf-other   \n",
       "2017-09-29 04:12:00      455301             drug-pcs-other-drug   \n",
       "2017-09-29 06:16:00      453457          theft-of-motor-vehicle   \n",
       "\n",
       "                    OFFENSE_CATEGORY_ID     GEO_LON    GEO_LAT  \\\n",
       "REPORTED_DATE                                                    \n",
       "2012-01-02 00:06:00  aggravated-assault -104.816860  39.796717   \n",
       "2012-01-02 00:06:00    all-other-crimes -104.816860  39.796717   \n",
       "2012-01-02 00:16:00    traffic-accident -104.971851  39.736874   \n",
       "2012-01-02 00:47:00    traffic-accident -104.951824  39.740168   \n",
       "2012-01-02 01:35:00  aggravated-assault -104.998131  39.749922   \n",
       "...                                 ...         ...        ...   \n",
       "2017-09-29 03:58:00    all-other-crimes -104.994817  39.768043   \n",
       "2017-09-29 03:58:00            burglary -104.987803  39.681199   \n",
       "2017-09-29 04:12:00    all-other-crimes -105.006426  39.783139   \n",
       "2017-09-29 04:12:00        drug-alcohol -105.048416  39.726209   \n",
       "2017-09-29 06:16:00          auto-theft -104.890269  39.657222   \n",
       "\n",
       "                    NEIGHBORHOOD_ID  IS_CRIME  IS_TRAFFIC  \n",
       "REPORTED_DATE                                              \n",
       "2012-01-02 00:06:00       montbello         1           0  \n",
       "2012-01-02 00:06:00       montbello         1           0  \n",
       "2012-01-02 00:16:00   cheesman-park         0           1  \n",
       "2012-01-02 00:47:00   congress-park         0           1  \n",
       "2012-01-02 01:35:00   union-station         1           0  \n",
       "...                             ...       ...         ...  \n",
       "2017-09-29 03:58:00      globeville         1           0  \n",
       "2017-09-29 03:58:00        overland         1           0  \n",
       "2017-09-29 04:12:00       sunnyside         1           0  \n",
       "2017-09-29 04:12:00      villa-park         1           0  \n",
       "2017-09-29 06:16:00         hampden         1           0  \n",
       "\n",
       "[460911 rows x 8 columns]"
      ]
     },
     "execution_count": 47,
     "metadata": {},
     "output_type": "execute_result"
    }
   ],
   "source": [
    "crime_tmp"
   ]
  },
  {
   "cell_type": "code",
   "execution_count": 50,
   "id": "7d4f308a",
   "metadata": {},
   "outputs": [
    {
     "data": {
      "text/html": [
       "<div>\n",
       "<style scoped>\n",
       "    .dataframe tbody tr th:only-of-type {\n",
       "        vertical-align: middle;\n",
       "    }\n",
       "\n",
       "    .dataframe tbody tr th {\n",
       "        vertical-align: top;\n",
       "    }\n",
       "\n",
       "    .dataframe thead th {\n",
       "        text-align: right;\n",
       "    }\n",
       "</style>\n",
       "<table border=\"1\" class=\"dataframe\">\n",
       "  <thead>\n",
       "    <tr style=\"text-align: right;\">\n",
       "      <th></th>\n",
       "      <th>Unnamed: 0</th>\n",
       "      <th>OFFENSE_TYPE_ID</th>\n",
       "      <th>OFFENSE_CATEGORY_ID</th>\n",
       "      <th>REPORTED_DATE</th>\n",
       "      <th>GEO_LON</th>\n",
       "      <th>GEO_LAT</th>\n",
       "      <th>NEIGHBORHOOD_ID</th>\n",
       "      <th>IS_CRIME</th>\n",
       "      <th>IS_TRAFFIC</th>\n",
       "      <th>datetime_m</th>\n",
       "      <th>datetime_w</th>\n",
       "    </tr>\n",
       "  </thead>\n",
       "  <tbody>\n",
       "    <tr>\n",
       "      <th>0</th>\n",
       "      <td>0</td>\n",
       "      <td>traffic-accident-dui-duid</td>\n",
       "      <td>traffic-accident</td>\n",
       "      <td>2014-06-29 02:01:00</td>\n",
       "      <td>-105.000149</td>\n",
       "      <td>39.745753</td>\n",
       "      <td>cbd</td>\n",
       "      <td>0</td>\n",
       "      <td>1</td>\n",
       "      <td>2014-06</td>\n",
       "      <td>Sunday</td>\n",
       "    </tr>\n",
       "    <tr>\n",
       "      <th>1</th>\n",
       "      <td>1</td>\n",
       "      <td>vehicular-eluding-no-chase</td>\n",
       "      <td>all-other-crimes</td>\n",
       "      <td>2014-06-29 01:54:00</td>\n",
       "      <td>-104.884660</td>\n",
       "      <td>39.738702</td>\n",
       "      <td>east-colfax</td>\n",
       "      <td>1</td>\n",
       "      <td>0</td>\n",
       "      <td>2014-06</td>\n",
       "      <td>Sunday</td>\n",
       "    </tr>\n",
       "    <tr>\n",
       "      <th>2</th>\n",
       "      <td>2</td>\n",
       "      <td>disturbing-the-peace</td>\n",
       "      <td>public-disorder</td>\n",
       "      <td>2014-06-29 02:00:00</td>\n",
       "      <td>-105.020719</td>\n",
       "      <td>39.706674</td>\n",
       "      <td>athmar-park</td>\n",
       "      <td>1</td>\n",
       "      <td>0</td>\n",
       "      <td>2014-06</td>\n",
       "      <td>Sunday</td>\n",
       "    </tr>\n",
       "    <tr>\n",
       "      <th>3</th>\n",
       "      <td>3</td>\n",
       "      <td>curfew</td>\n",
       "      <td>public-disorder</td>\n",
       "      <td>2014-06-29 02:18:00</td>\n",
       "      <td>-105.001552</td>\n",
       "      <td>39.769505</td>\n",
       "      <td>sunnyside</td>\n",
       "      <td>1</td>\n",
       "      <td>0</td>\n",
       "      <td>2014-06</td>\n",
       "      <td>Sunday</td>\n",
       "    </tr>\n",
       "    <tr>\n",
       "      <th>4</th>\n",
       "      <td>4</td>\n",
       "      <td>aggravated-assault</td>\n",
       "      <td>aggravated-assault</td>\n",
       "      <td>2014-06-29 04:17:00</td>\n",
       "      <td>-105.018557</td>\n",
       "      <td>39.679229</td>\n",
       "      <td>college-view-south-platte</td>\n",
       "      <td>1</td>\n",
       "      <td>0</td>\n",
       "      <td>2014-06</td>\n",
       "      <td>Sunday</td>\n",
       "    </tr>\n",
       "    <tr>\n",
       "      <th>...</th>\n",
       "      <td>...</td>\n",
       "      <td>...</td>\n",
       "      <td>...</td>\n",
       "      <td>...</td>\n",
       "      <td>...</td>\n",
       "      <td>...</td>\n",
       "      <td>...</td>\n",
       "      <td>...</td>\n",
       "      <td>...</td>\n",
       "      <td>...</td>\n",
       "      <td>...</td>\n",
       "    </tr>\n",
       "    <tr>\n",
       "      <th>460906</th>\n",
       "      <td>460906</td>\n",
       "      <td>burglary-business-by-force</td>\n",
       "      <td>burglary</td>\n",
       "      <td>2017-09-13 05:48:00</td>\n",
       "      <td>-105.033840</td>\n",
       "      <td>39.762365</td>\n",
       "      <td>west-highland</td>\n",
       "      <td>1</td>\n",
       "      <td>0</td>\n",
       "      <td>2017-09</td>\n",
       "      <td>Wednesday</td>\n",
       "    </tr>\n",
       "    <tr>\n",
       "      <th>460907</th>\n",
       "      <td>460907</td>\n",
       "      <td>weapon-unlawful-discharge-of</td>\n",
       "      <td>all-other-crimes</td>\n",
       "      <td>2017-09-12 20:37:00</td>\n",
       "      <td>-105.040313</td>\n",
       "      <td>39.721264</td>\n",
       "      <td>barnum-west</td>\n",
       "      <td>1</td>\n",
       "      <td>0</td>\n",
       "      <td>2017-09</td>\n",
       "      <td>Tuesday</td>\n",
       "    </tr>\n",
       "    <tr>\n",
       "      <th>460908</th>\n",
       "      <td>460908</td>\n",
       "      <td>traf-habitual-offender</td>\n",
       "      <td>all-other-crimes</td>\n",
       "      <td>2017-09-12 16:32:00</td>\n",
       "      <td>-104.847024</td>\n",
       "      <td>39.779596</td>\n",
       "      <td>montbello</td>\n",
       "      <td>1</td>\n",
       "      <td>0</td>\n",
       "      <td>2017-09</td>\n",
       "      <td>Tuesday</td>\n",
       "    </tr>\n",
       "    <tr>\n",
       "      <th>460909</th>\n",
       "      <td>460909</td>\n",
       "      <td>criminal-mischief-other</td>\n",
       "      <td>public-disorder</td>\n",
       "      <td>2017-09-12 13:04:00</td>\n",
       "      <td>-104.949183</td>\n",
       "      <td>39.756353</td>\n",
       "      <td>skyland</td>\n",
       "      <td>1</td>\n",
       "      <td>0</td>\n",
       "      <td>2017-09</td>\n",
       "      <td>Tuesday</td>\n",
       "    </tr>\n",
       "    <tr>\n",
       "      <th>460910</th>\n",
       "      <td>460910</td>\n",
       "      <td>theft-other</td>\n",
       "      <td>larceny</td>\n",
       "      <td>2017-09-12 09:30:00</td>\n",
       "      <td>-104.985739</td>\n",
       "      <td>39.735045</td>\n",
       "      <td>capitol-hill</td>\n",
       "      <td>1</td>\n",
       "      <td>0</td>\n",
       "      <td>2017-09</td>\n",
       "      <td>Tuesday</td>\n",
       "    </tr>\n",
       "  </tbody>\n",
       "</table>\n",
       "<p>460911 rows × 11 columns</p>\n",
       "</div>"
      ],
      "text/plain": [
       "        Unnamed: 0               OFFENSE_TYPE_ID OFFENSE_CATEGORY_ID  \\\n",
       "0                0     traffic-accident-dui-duid    traffic-accident   \n",
       "1                1    vehicular-eluding-no-chase    all-other-crimes   \n",
       "2                2          disturbing-the-peace     public-disorder   \n",
       "3                3                        curfew     public-disorder   \n",
       "4                4            aggravated-assault  aggravated-assault   \n",
       "...            ...                           ...                 ...   \n",
       "460906      460906    burglary-business-by-force            burglary   \n",
       "460907      460907  weapon-unlawful-discharge-of    all-other-crimes   \n",
       "460908      460908        traf-habitual-offender    all-other-crimes   \n",
       "460909      460909       criminal-mischief-other     public-disorder   \n",
       "460910      460910                   theft-other             larceny   \n",
       "\n",
       "             REPORTED_DATE     GEO_LON    GEO_LAT            NEIGHBORHOOD_ID  \\\n",
       "0      2014-06-29 02:01:00 -105.000149  39.745753                        cbd   \n",
       "1      2014-06-29 01:54:00 -104.884660  39.738702                east-colfax   \n",
       "2      2014-06-29 02:00:00 -105.020719  39.706674                athmar-park   \n",
       "3      2014-06-29 02:18:00 -105.001552  39.769505                  sunnyside   \n",
       "4      2014-06-29 04:17:00 -105.018557  39.679229  college-view-south-platte   \n",
       "...                    ...         ...        ...                        ...   \n",
       "460906 2017-09-13 05:48:00 -105.033840  39.762365              west-highland   \n",
       "460907 2017-09-12 20:37:00 -105.040313  39.721264                barnum-west   \n",
       "460908 2017-09-12 16:32:00 -104.847024  39.779596                  montbello   \n",
       "460909 2017-09-12 13:04:00 -104.949183  39.756353                    skyland   \n",
       "460910 2017-09-12 09:30:00 -104.985739  39.735045               capitol-hill   \n",
       "\n",
       "        IS_CRIME  IS_TRAFFIC datetime_m datetime_w  \n",
       "0              0           1    2014-06     Sunday  \n",
       "1              1           0    2014-06     Sunday  \n",
       "2              1           0    2014-06     Sunday  \n",
       "3              1           0    2014-06     Sunday  \n",
       "4              1           0    2014-06     Sunday  \n",
       "...          ...         ...        ...        ...  \n",
       "460906         1           0    2017-09  Wednesday  \n",
       "460907         1           0    2017-09    Tuesday  \n",
       "460908         1           0    2017-09    Tuesday  \n",
       "460909         1           0    2017-09    Tuesday  \n",
       "460910         1           0    2017-09    Tuesday  \n",
       "\n",
       "[460911 rows x 11 columns]"
      ]
     },
     "execution_count": 50,
     "metadata": {},
     "output_type": "execute_result"
    }
   ],
   "source": [
    "crime['datetime_w'] = crime['REPORTED_DATE'].dt.day_name()\n",
    "crime\n",
    "\n",
    "#요일 데이터 추출"
   ]
  },
  {
   "cell_type": "code",
   "execution_count": 57,
   "id": "762e00ba",
   "metadata": {},
   "outputs": [],
   "source": [
    "week_num = {1:\"Monday\", 2:\"Tuesday\", 3:\"Wednesday\", \n",
    "                4:\"Thursday\", 5:\"Friday\", 6:\"Saturday\", 7:\"Sunday\"}\n",
    "week_change = {\"Monday\":1, \"Tuesday\":2, \"Wednesday\":3, \n",
    "                \"Thursday\":4, \"Friday\":5, \"Saturday\":6, \"Sunday\":7}"
   ]
  },
  {
   "cell_type": "code",
   "execution_count": 60,
   "id": "c20eeb09",
   "metadata": {},
   "outputs": [],
   "source": [
    "crime_when = crime['datetime_w'].to_frame()"
   ]
  },
  {
   "cell_type": "code",
   "execution_count": 61,
   "id": "08cc042d",
   "metadata": {
    "scrolled": true
   },
   "outputs": [
    {
     "data": {
      "text/html": [
       "<div>\n",
       "<style scoped>\n",
       "    .dataframe tbody tr th:only-of-type {\n",
       "        vertical-align: middle;\n",
       "    }\n",
       "\n",
       "    .dataframe tbody tr th {\n",
       "        vertical-align: top;\n",
       "    }\n",
       "\n",
       "    .dataframe thead th {\n",
       "        text-align: right;\n",
       "    }\n",
       "</style>\n",
       "<table border=\"1\" class=\"dataframe\">\n",
       "  <thead>\n",
       "    <tr style=\"text-align: right;\">\n",
       "      <th></th>\n",
       "      <th>datetime_w</th>\n",
       "    </tr>\n",
       "  </thead>\n",
       "  <tbody>\n",
       "    <tr>\n",
       "      <th>0</th>\n",
       "      <td>Sunday</td>\n",
       "    </tr>\n",
       "    <tr>\n",
       "      <th>1</th>\n",
       "      <td>Sunday</td>\n",
       "    </tr>\n",
       "    <tr>\n",
       "      <th>2</th>\n",
       "      <td>Sunday</td>\n",
       "    </tr>\n",
       "    <tr>\n",
       "      <th>3</th>\n",
       "      <td>Sunday</td>\n",
       "    </tr>\n",
       "    <tr>\n",
       "      <th>4</th>\n",
       "      <td>Sunday</td>\n",
       "    </tr>\n",
       "    <tr>\n",
       "      <th>...</th>\n",
       "      <td>...</td>\n",
       "    </tr>\n",
       "    <tr>\n",
       "      <th>460906</th>\n",
       "      <td>Wednesday</td>\n",
       "    </tr>\n",
       "    <tr>\n",
       "      <th>460907</th>\n",
       "      <td>Tuesday</td>\n",
       "    </tr>\n",
       "    <tr>\n",
       "      <th>460908</th>\n",
       "      <td>Tuesday</td>\n",
       "    </tr>\n",
       "    <tr>\n",
       "      <th>460909</th>\n",
       "      <td>Tuesday</td>\n",
       "    </tr>\n",
       "    <tr>\n",
       "      <th>460910</th>\n",
       "      <td>Tuesday</td>\n",
       "    </tr>\n",
       "  </tbody>\n",
       "</table>\n",
       "<p>460911 rows × 1 columns</p>\n",
       "</div>"
      ],
      "text/plain": [
       "       datetime_w\n",
       "0          Sunday\n",
       "1          Sunday\n",
       "2          Sunday\n",
       "3          Sunday\n",
       "4          Sunday\n",
       "...           ...\n",
       "460906  Wednesday\n",
       "460907    Tuesday\n",
       "460908    Tuesday\n",
       "460909    Tuesday\n",
       "460910    Tuesday\n",
       "\n",
       "[460911 rows x 1 columns]"
      ]
     },
     "execution_count": 61,
     "metadata": {},
     "output_type": "execute_result"
    }
   ],
   "source": [
    "crime_when"
   ]
  },
  {
   "cell_type": "code",
   "execution_count": 67,
   "id": "eab6b78c",
   "metadata": {},
   "outputs": [],
   "source": [
    "crime_when.rename(columns={\"datetime_w\":\"day\"}, inplace=True)"
   ]
  },
  {
   "cell_type": "code",
   "execution_count": 68,
   "id": "1fc40292",
   "metadata": {},
   "outputs": [
    {
     "data": {
      "text/html": [
       "<div>\n",
       "<style scoped>\n",
       "    .dataframe tbody tr th:only-of-type {\n",
       "        vertical-align: middle;\n",
       "    }\n",
       "\n",
       "    .dataframe tbody tr th {\n",
       "        vertical-align: top;\n",
       "    }\n",
       "\n",
       "    .dataframe thead th {\n",
       "        text-align: right;\n",
       "    }\n",
       "</style>\n",
       "<table border=\"1\" class=\"dataframe\">\n",
       "  <thead>\n",
       "    <tr style=\"text-align: right;\">\n",
       "      <th></th>\n",
       "      <th>day</th>\n",
       "    </tr>\n",
       "  </thead>\n",
       "  <tbody>\n",
       "    <tr>\n",
       "      <th>0</th>\n",
       "      <td>Sunday</td>\n",
       "    </tr>\n",
       "    <tr>\n",
       "      <th>1</th>\n",
       "      <td>Sunday</td>\n",
       "    </tr>\n",
       "    <tr>\n",
       "      <th>2</th>\n",
       "      <td>Sunday</td>\n",
       "    </tr>\n",
       "    <tr>\n",
       "      <th>3</th>\n",
       "      <td>Sunday</td>\n",
       "    </tr>\n",
       "    <tr>\n",
       "      <th>4</th>\n",
       "      <td>Sunday</td>\n",
       "    </tr>\n",
       "    <tr>\n",
       "      <th>...</th>\n",
       "      <td>...</td>\n",
       "    </tr>\n",
       "    <tr>\n",
       "      <th>460906</th>\n",
       "      <td>Wednesday</td>\n",
       "    </tr>\n",
       "    <tr>\n",
       "      <th>460907</th>\n",
       "      <td>Tuesday</td>\n",
       "    </tr>\n",
       "    <tr>\n",
       "      <th>460908</th>\n",
       "      <td>Tuesday</td>\n",
       "    </tr>\n",
       "    <tr>\n",
       "      <th>460909</th>\n",
       "      <td>Tuesday</td>\n",
       "    </tr>\n",
       "    <tr>\n",
       "      <th>460910</th>\n",
       "      <td>Tuesday</td>\n",
       "    </tr>\n",
       "  </tbody>\n",
       "</table>\n",
       "<p>460911 rows × 1 columns</p>\n",
       "</div>"
      ],
      "text/plain": [
       "              day\n",
       "0          Sunday\n",
       "1          Sunday\n",
       "2          Sunday\n",
       "3          Sunday\n",
       "4          Sunday\n",
       "...           ...\n",
       "460906  Wednesday\n",
       "460907    Tuesday\n",
       "460908    Tuesday\n",
       "460909    Tuesday\n",
       "460910    Tuesday\n",
       "\n",
       "[460911 rows x 1 columns]"
      ]
     },
     "execution_count": 68,
     "metadata": {},
     "output_type": "execute_result"
    }
   ],
   "source": [
    "crime_when"
   ]
  },
  {
   "cell_type": "code",
   "execution_count": null,
   "id": "fb0f4cec",
   "metadata": {},
   "outputs": [],
   "source": []
  }
 ],
 "metadata": {
  "kernelspec": {
   "display_name": "Python 3 (ipykernel)",
   "language": "python",
   "name": "python3"
  },
  "language_info": {
   "codemirror_mode": {
    "name": "ipython",
    "version": 3
   },
   "file_extension": ".py",
   "mimetype": "text/x-python",
   "name": "python",
   "nbconvert_exporter": "python",
   "pygments_lexer": "ipython3",
   "version": "3.9.7"
  }
 },
 "nbformat": 4,
 "nbformat_minor": 5
}
