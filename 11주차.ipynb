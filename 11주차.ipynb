{
 "cells": [
  {
   "cell_type": "markdown",
   "id": "0d652254",
   "metadata": {},
   "source": [
    "# 정규표현식 \n",
    "\n",
    "- regular expression \n",
    "- 기존 문자열분석 함수를 이용해서 문자열을 분석하는 경우 대부분\n",
    "- 정규표현식의 경우는 나만의 일정한 패턴, 규칙을 만들어서 문자열을 분석할 수 있다.\n",
    "- 특정한 규칙으로 된 문자열을 추출하거나, 바꾸거나, 전처리 등 다양하게 활용할 수 있음!\n",
    "- 정규현식 자체가 외계어처럼 보이지만, 그 원리를 알면 정말 쉽다!\n",
    "\n",
    "--- \n",
    "- 수 많은 데이터 중에서 메일주소만 추출하고 나머지는 제외해 주세요\n",
    "- 주민등록번호 앞 자리와 '-' 뒷자리 1개만 추출하고 나머지는 제외해 주세요!"
   ]
  },
  {
   "cell_type": "code",
   "execution_count": 1,
   "id": "0087bf9d",
   "metadata": {},
   "outputs": [],
   "source": [
    "import re #정규표현식 불러오기!"
   ]
  },
  {
   "cell_type": "markdown",
   "id": "3d1cb04c",
   "metadata": {},
   "source": [
    "- re.match('패턴',문자열')\n",
    "- 맨처음 인덱스에 본인이 원하는 문자열이 나오지 않으면 없다고 체크한다! ( 뒤를 안 본다.)"
   ]
  },
  {
   "cell_type": "code",
   "execution_count": 2,
   "id": "bd7a0bdc",
   "metadata": {},
   "outputs": [
    {
     "data": {
      "text/plain": [
       "<re.Match object; span=(0, 5), match='Hello'>"
      ]
     },
     "execution_count": 2,
     "metadata": {},
     "output_type": "execute_result"
    }
   ],
   "source": [
    "re.match('Hello', 'Hello, Python')"
   ]
  },
  {
   "cell_type": "code",
   "execution_count": 3,
   "id": "23bcf554",
   "metadata": {},
   "outputs": [],
   "source": [
    "re.match('Python', 'Hello, Python')"
   ]
  },
  {
   "cell_type": "markdown",
   "id": "60664675",
   "metadata": {},
   "source": [
    "- 뒤에 오는지 확인하는 방법\n",
    "- ^문자열\n",
    "- 문자열$\n",
    "\n",
    "- 문자열을 찾는 함수가 match, search도 있다."
   ]
  },
  {
   "cell_type": "code",
   "execution_count": 5,
   "id": "af0d7abb",
   "metadata": {},
   "outputs": [
    {
     "data": {
      "text/plain": [
       "<re.Match object; span=(7, 13), match='Python'>"
      ]
     },
     "execution_count": 5,
     "metadata": {},
     "output_type": "execute_result"
    }
   ],
   "source": [
    "re.search('Python', 'Hello, Python') # 서치는 다 찾아보는 아주 좋은 친구다!"
   ]
  },
  {
   "cell_type": "markdown",
   "id": "96b5438a",
   "metadata": {},
   "source": [
    "### 정규식을 이용해 범위 판단하기!\n",
    "\n",
    "- 숫자만 가져와야 하는 경우 \n",
    "\n",
    "[0-9] #숫자만 가져오기!\n",
    "\n",
    "- [0-9]*\n",
    "- [0-9]+\n",
    "- *, + 쓰면 \n",
    "- *는 문자,숫자가 0개 이상 있는지\n",
    "- '+' 는 문자, 숫자가 1개 이상 있는지 체크!\n"
   ]
  },
  {
   "cell_type": "code",
   "execution_count": 14,
   "id": "7d386f86",
   "metadata": {},
   "outputs": [
    {
     "data": {
      "text/plain": [
       "<re.Match object; span=(0, 1), match='1'>"
      ]
     },
     "execution_count": 14,
     "metadata": {},
     "output_type": "execute_result"
    }
   ],
   "source": [
    "re.match('[0-9]','123456789') # 맨 처음만 확인"
   ]
  },
  {
   "cell_type": "code",
   "execution_count": 6,
   "id": "75efc0d8",
   "metadata": {
    "scrolled": true
   },
   "outputs": [
    {
     "data": {
      "text/plain": [
       "<re.Match object; span=(0, 1), match='1'>"
      ]
     },
     "execution_count": 6,
     "metadata": {},
     "output_type": "execute_result"
    }
   ],
   "source": [
    "re.search('[0-9]','123456789') "
   ]
  },
  {
   "cell_type": "code",
   "execution_count": 8,
   "id": "ab9363af",
   "metadata": {},
   "outputs": [
    {
     "data": {
      "text/plain": [
       "<re.Match object; span=(0, 9), match='123456789'>"
      ]
     },
     "execution_count": 8,
     "metadata": {},
     "output_type": "execute_result"
    }
   ],
   "source": [
    "re.match('[0-9]*','123456789')"
   ]
  },
  {
   "cell_type": "code",
   "execution_count": 9,
   "id": "98dfea2d",
   "metadata": {},
   "outputs": [
    {
     "data": {
      "text/plain": [
       "<re.Match object; span=(0, 9), match='123456789'>"
      ]
     },
     "execution_count": 9,
     "metadata": {},
     "output_type": "execute_result"
    }
   ],
   "source": [
    "re.match('[0-9]+','123456789')"
   ]
  },
  {
   "cell_type": "code",
   "execution_count": 15,
   "id": "aa887a11",
   "metadata": {},
   "outputs": [],
   "source": [
    "re.match('[0-9]+','홍길동 : 123456789') # 맨 처음만 확인하기 때문에 결과가 없음 "
   ]
  },
  {
   "cell_type": "code",
   "execution_count": 10,
   "id": "5904a988",
   "metadata": {},
   "outputs": [
    {
     "data": {
      "text/plain": [
       "<re.Match object; span=(6, 15), match='123456789'>"
      ]
     },
     "execution_count": 10,
     "metadata": {},
     "output_type": "execute_result"
    }
   ],
   "source": [
    "re.search('[0-9]+','홍길동 : 123456789')"
   ]
  },
  {
   "cell_type": "markdown",
   "id": "f003fcb6",
   "metadata": {},
   "source": [
    "### 문자 개수 판단하기\n",
    "- 문자가 정확히 몇 개 있는지?\n",
    "\n",
    "- 문자{개수}\n",
    "- (문자열){개수}\n"
   ]
  },
  {
   "cell_type": "code",
   "execution_count": 16,
   "id": "dc9db7ef",
   "metadata": {},
   "outputs": [
    {
     "data": {
      "text/plain": [
       "<re.Match object; span=(0, 3), match='hhh'>"
      ]
     },
     "execution_count": 16,
     "metadata": {},
     "output_type": "execute_result"
    }
   ],
   "source": [
    "re.match('h{3}','hhhhhhello')"
   ]
  },
  {
   "cell_type": "code",
   "execution_count": 17,
   "id": "05b0cdb3",
   "metadata": {},
   "outputs": [
    {
     "data": {
      "text/plain": [
       "<re.Match object; span=(0, 6), match='hihihi'>"
      ]
     },
     "execution_count": 17,
     "metadata": {},
     "output_type": "execute_result"
    }
   ],
   "source": [
    "re.match('(hi){3}','hihihihihihiello')"
   ]
  },
  {
   "cell_type": "markdown",
   "id": "a72ff7b0",
   "metadata": {},
   "source": [
    "- 휴대전화번호는 대부분 패턴이\n",
    "- 000-0000-0000 \n",
    "\n",
    "- 위 전화번호 패턴을 찾는 정규식을 적어서 채팅방 공유주세요! -"
   ]
  },
  {
   "cell_type": "code",
   "execution_count": 20,
   "id": "dc3a588b",
   "metadata": {},
   "outputs": [
    {
     "data": {
      "text/plain": [
       "<re.Match object; span=(0, 13), match='010-1234-5678'>"
      ]
     },
     "execution_count": 20,
     "metadata": {},
     "output_type": "execute_result"
    }
   ],
   "source": [
    "re.match('[0-9]{3}-[0-9]{4}-[0-9]{4}','010-1234-5678123')"
   ]
  },
  {
   "cell_type": "code",
   "execution_count": 21,
   "id": "0b54994a",
   "metadata": {},
   "outputs": [
    {
     "data": {
      "text/plain": [
       "<re.Match object; span=(0, 16), match='010-1234-5678123'>"
      ]
     },
     "execution_count": 21,
     "metadata": {},
     "output_type": "execute_result"
    }
   ],
   "source": [
    "re.match('[0-9]*-[0-9]*-[0-9]*','010-1234-5678123')"
   ]
  },
  {
   "cell_type": "markdown",
   "id": "b8f342ba",
   "metadata": {},
   "source": [
    "영문, 한글\n",
    "- 영문은 [a-z], [A-Z]\n",
    "- 한글은 [가-힣], [ㄱ-ㅎ], [ㅏ-ㅣ]"
   ]
  },
  {
   "cell_type": "code",
   "execution_count": 22,
   "id": "571b3e10",
   "metadata": {},
   "outputs": [
    {
     "data": {
      "text/plain": [
       "'1231 안녕하세요?12312'"
      ]
     },
     "execution_count": 22,
     "metadata": {},
     "output_type": "execute_result"
    }
   ],
   "source": [
    "'1231 안녕하세요?12312'"
   ]
  },
  {
   "cell_type": "code",
   "execution_count": 23,
   "id": "84403539",
   "metadata": {},
   "outputs": [
    {
     "data": {
      "text/plain": [
       "<re.Match object; span=(0, 0), match=''>"
      ]
     },
     "execution_count": 23,
     "metadata": {},
     "output_type": "execute_result"
    }
   ],
   "source": [
    "re.match('[가-힣]*','1234 안녕하세요?12312') # match라 맨 앞에 안나옴 "
   ]
  },
  {
   "cell_type": "code",
   "execution_count": 24,
   "id": "bbdc6473",
   "metadata": {},
   "outputs": [
    {
     "data": {
      "text/plain": [
       "<re.Match object; span=(5, 10), match='안녕하세요'>"
      ]
     },
     "execution_count": 24,
     "metadata": {},
     "output_type": "execute_result"
    }
   ],
   "source": [
    "re.search('[가-힣]+','1234 안녕하세요? 1234')"
   ]
  },
  {
   "cell_type": "code",
   "execution_count": 25,
   "id": "fd9e6b19",
   "metadata": {},
   "outputs": [
    {
     "data": {
      "text/plain": [
       "<re.Match object; span=(0, 0), match=''>"
      ]
     },
     "execution_count": 25,
     "metadata": {},
     "output_type": "execute_result"
    }
   ],
   "source": [
    "re.match('[가-힣]*','1234안녕하세요?12312')"
   ]
  },
  {
   "cell_type": "markdown",
   "id": "436c07cc",
   "metadata": {},
   "source": [
    "### 특정문자 범위에 포함되지 않는지 판단?\n",
    "- [^범위]*\n",
    "- [^범위]+"
   ]
  },
  {
   "cell_type": "code",
   "execution_count": 26,
   "id": "bef309e7",
   "metadata": {},
   "outputs": [],
   "source": [
    "re.match('[^A-Z]+','HELLO')"
   ]
  },
  {
   "cell_type": "code",
   "execution_count": 27,
   "id": "3208afd3",
   "metadata": {},
   "outputs": [],
   "source": [
    "re.match('[^A-Z]+','Hello')"
   ]
  },
  {
   "cell_type": "markdown",
   "id": "9959d739",
   "metadata": {},
   "source": [
    "### 특수문자\n",
    "\\특수문자"
   ]
  },
  {
   "cell_type": "code",
   "execution_count": 29,
   "id": "5c7e23e8",
   "metadata": {},
   "outputs": [
    {
     "data": {
      "text/plain": [
       "<re.Match object; span=(2, 3), match='*'>"
      ]
     },
     "execution_count": 29,
     "metadata": {},
     "output_type": "execute_result"
    }
   ],
   "source": [
    "re.search('\\*+','1 *+2')"
   ]
  },
  {
   "cell_type": "markdown",
   "id": "03149a75",
   "metadata": {},
   "source": [
    "- \\d 모든 숫자\n",
    "- \\D 숫자를 제외한 모든 문자\n",
    "- \\w 영문, 대소문자, 숫자, 밑줄문자 \n",
    "- \\W 영문, 대소문자, 숫자, 밑물문자를 제외한 모든 문자"
   ]
  },
  {
   "cell_type": "markdown",
   "id": "273c051a",
   "metadata": {},
   "source": [
    "### 공백처리\n",
    "- ' ' \n",
    "- \\s\n",
    "- \\S"
   ]
  },
  {
   "cell_type": "code",
   "execution_count": 32,
   "id": "a45abf09",
   "metadata": {},
   "outputs": [
    {
     "data": {
      "text/plain": [
       "<re.Match object; span=(0, 10), match='hello 1234'>"
      ]
     },
     "execution_count": 32,
     "metadata": {},
     "output_type": "execute_result"
    }
   ],
   "source": [
    "re.match('[a-z0-9 ]+','hello 1234')"
   ]
  },
  {
   "cell_type": "code",
   "execution_count": 33,
   "id": "491094cf",
   "metadata": {},
   "outputs": [
    {
     "data": {
      "text/plain": [
       "<re.Match object; span=(0, 10), match='hello 1234'>"
      ]
     },
     "execution_count": 33,
     "metadata": {},
     "output_type": "execute_result"
    }
   ],
   "source": [
    "re.match('[a-z0-9\\s]+','hello 1234')"
   ]
  },
  {
   "cell_type": "markdown",
   "id": "4386d948",
   "metadata": {},
   "source": [
    "### 그룹핑\n",
    "- (정규표현식)(정규표현식)\n",
    "\n",
    "- 두 개의 그룹으로 원하는 걸 만들 수 있다.\n",
    "\n",
    "- 매칭할객체.group(그룹숫자)"
   ]
  },
  {
   "cell_type": "code",
   "execution_count": 34,
   "id": "c96768d7",
   "metadata": {},
   "outputs": [],
   "source": [
    "df_n =re.match('([0-9]+) ([0-9]+)','121 131')"
   ]
  },
  {
   "cell_type": "code",
   "execution_count": 35,
   "id": "d9ca238e",
   "metadata": {},
   "outputs": [
    {
     "data": {
      "text/plain": [
       "'121'"
      ]
     },
     "execution_count": 35,
     "metadata": {},
     "output_type": "execute_result"
    }
   ],
   "source": [
    "df_n.group(1)"
   ]
  },
  {
   "cell_type": "code",
   "execution_count": 36,
   "id": "f9ecf69c",
   "metadata": {},
   "outputs": [
    {
     "data": {
      "text/plain": [
       "'131'"
      ]
     },
     "execution_count": 36,
     "metadata": {},
     "output_type": "execute_result"
    }
   ],
   "source": [
    "df_n.group(2)"
   ]
  },
  {
   "cell_type": "code",
   "execution_count": 37,
   "id": "8c1ed252",
   "metadata": {},
   "outputs": [
    {
     "data": {
      "text/plain": [
       "('121', '131')"
      ]
     },
     "execution_count": 37,
     "metadata": {},
     "output_type": "execute_result"
    }
   ],
   "source": [
    "df_n.groups()"
   ]
  },
  {
   "cell_type": "markdown",
   "id": "30a58414",
   "metadata": {},
   "source": [
    "## 패턴에 매칭되는 모든 문자열 가져오기\n",
    "- re.findall('패턴','문자열')"
   ]
  },
  {
   "cell_type": "code",
   "execution_count": 39,
   "id": "8c3e5ad4",
   "metadata": {},
   "outputs": [
    {
     "data": {
      "text/plain": [
       "['1', '3', '5', '7', '9', '11', '15']"
      ]
     },
     "execution_count": 39,
     "metadata": {},
     "output_type": "execute_result"
    }
   ],
   "source": [
    "re.findall('[0-9]+', '1 3 5 7 pizza 9 11 Rice 15')"
   ]
  },
  {
   "cell_type": "code",
   "execution_count": 40,
   "id": "5402da54",
   "metadata": {},
   "outputs": [
    {
     "data": {
      "text/plain": [
       "['pizza', 'Rice']"
      ]
     },
     "execution_count": 40,
     "metadata": {},
     "output_type": "execute_result"
    }
   ],
   "source": [
    "re.findall('[a-zA-Z]+', '1 3 5 7 pizza 9 11 Rice 15 정규식 정말 쉽죠?')"
   ]
  },
  {
   "cell_type": "code",
   "execution_count": 43,
   "id": "4fdd75d0",
   "metadata": {},
   "outputs": [
    {
     "data": {
      "text/plain": [
       "['정규식', '정말', '쉽죠']"
      ]
     },
     "execution_count": 43,
     "metadata": {},
     "output_type": "execute_result"
    }
   ],
   "source": [
    "re.findall('[가-힣]+', '1 3 5 7 pizza 9 11 Rice 15 정규식 정말 쉽죠?')"
   ]
  },
  {
   "cell_type": "code",
   "execution_count": 41,
   "id": "555ed911",
   "metadata": {},
   "outputs": [],
   "source": [
    "df_new= re.findall('[가-힣]+', '1 3 5 7 pizza 9 11 Rice 15 정규식 정말 쉽죠?')"
   ]
  },
  {
   "cell_type": "code",
   "execution_count": 42,
   "id": "b71221d5",
   "metadata": {},
   "outputs": [
    {
     "data": {
      "text/plain": [
       "'정규식'"
      ]
     },
     "execution_count": 42,
     "metadata": {},
     "output_type": "execute_result"
    }
   ],
   "source": [
    "df_new[0]"
   ]
  },
  {
   "cell_type": "markdown",
   "id": "28b9d9a6",
   "metadata": {},
   "source": [
    "### 문자열 바꾸기\n",
    "\n",
    "-re.sub('패턴','바꿀문자열','문자열',바꿀횟수)"
   ]
  },
  {
   "cell_type": "code",
   "execution_count": 44,
   "id": "a071cfe9",
   "metadata": {},
   "outputs": [
    {
     "data": {
      "text/plain": [
       "'number number number number pizza number number Rice number'"
      ]
     },
     "execution_count": 44,
     "metadata": {},
     "output_type": "execute_result"
    }
   ],
   "source": [
    "re.sub('[0-9]+','number', '1 3 5 7 pizza 9 11 Rice 15')"
   ]
  },
  {
   "cell_type": "code",
   "execution_count": 45,
   "id": "01c14eed",
   "metadata": {},
   "outputs": [
    {
     "data": {
      "text/plain": [
       "'number number number 7 pizza 9 11 Rice 15'"
      ]
     },
     "execution_count": 45,
     "metadata": {},
     "output_type": "execute_result"
    }
   ],
   "source": [
    "re.sub('[0-9]+','number', '1 3 5 7 pizza 9 11 Rice 15',3) #바꿀 횟수는 앞 기준으로 원하는 만큼 조정 가능함!"
   ]
  },
  {
   "cell_type": "markdown",
   "id": "375ef3a1",
   "metadata": {},
   "source": [
    "### 퀴즈\n",
    "- 이메일주소를 가지고 올 수 있는 정규식 패턴 만들기!\n",
    "- 이메일의 시작은 영어(소문자만 가능)\n",
    "- 맨 앞은 숫자가 될 수 없음\n",
    "- aadas@\n",
    "- @ 다음은 gmail.com \n",
    "- .com 으로 끝난다.\n"
   ]
  },
  {
   "cell_type": "code",
   "execution_count": 46,
   "id": "c89e949e",
   "metadata": {},
   "outputs": [
    {
     "data": {
      "text/plain": [
       "<re.Match object; span=(0, 14), match='bdaa@gmail.com'>"
      ]
     },
     "execution_count": 46,
     "metadata": {},
     "output_type": "execute_result"
    }
   ],
   "source": [
    "mail = 'bdaa@gmail.com'\n",
    "re.search('[a-z]*@[a-z]*.com', mail)"
   ]
  },
  {
   "cell_type": "code",
   "execution_count": null,
   "id": "079fb8f5",
   "metadata": {},
   "outputs": [],
   "source": []
  }
 ],
 "metadata": {
  "kernelspec": {
   "display_name": "Python 3 (ipykernel)",
   "language": "python",
   "name": "python3"
  },
  "language_info": {
   "codemirror_mode": {
    "name": "ipython",
    "version": 3
   },
   "file_extension": ".py",
   "mimetype": "text/x-python",
   "name": "python",
   "nbconvert_exporter": "python",
   "pygments_lexer": "ipython3",
   "version": "3.9.7"
  }
 },
 "nbformat": 4,
 "nbformat_minor": 5
}
