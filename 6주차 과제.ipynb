{
 "cells": [
  {
   "cell_type": "code",
   "execution_count": 1,
   "id": "cf7e57dd",
   "metadata": {},
   "outputs": [],
   "source": [
    "from matplotlib import pyplot as plt\n",
    "import seaborn as sns\n",
    "import numpy as np\n",
    "import pandas as pd"
   ]
  },
  {
   "cell_type": "code",
   "execution_count": 2,
   "id": "eb333455",
   "metadata": {},
   "outputs": [],
   "source": [
    "%matplotlib inline"
   ]
  },
  {
   "cell_type": "markdown",
   "id": "c2be7448",
   "metadata": {},
   "source": [
    "#### 색깔 : 검정: black / 회색 : gray, grey / 라임 : lime / 파랑 : blue, darkblue... 등등 기본 색깔은 전부 존재하며\n",
    "####          라벤더 : lavender/ 자두 : plum / 밀 : wheat / 연어 : salmon / 눈 :snow 등 다양한 색이 존재함 "
   ]
  },
  {
   "cell_type": "markdown",
   "id": "2582bfd0",
   "metadata": {},
   "source": [
    "### https://matplotlib.org/stable/gallery/color/named_colors.html"
   ]
  },
  {
   "cell_type": "markdown",
   "id": "d94bf0d4",
   "metadata": {},
   "source": [
    "### 마커의 경우 unfilled와 filled로 구분되며\n",
    "\n",
    "#### unfilled : ('x', 'x'), ('D', 'diamond'), ('d', 'thin_diamond'), ('<', 'triangle_left'), ('>', 'triangle_right')\n",
    "#### filled : ('p', 오각형),  ('h', 육각형), ('8', 원), ('^', 삼각형), ('s', 사각형) 등이 있다. "
   ]
  },
  {
   "cell_type": "markdown",
   "id": "d93630db",
   "metadata": {},
   "source": [
    "### https://pyvisuall.tistory.com/39\n",
    "### https://matplotlib.org/stable/api/markers_api.html"
   ]
  },
  {
   "cell_type": "markdown",
   "id": "0b041ba6",
   "metadata": {},
   "source": [
    "### 다음 주 필수 발표 과제!!!\n",
    "- 위에 배운 내용 외에\n",
    "- matplot, seaborn 수업에서 다루지 않았던 인자들을 정리하고 시각화해서 공유해 주세요!\n",
    "- 구글링하시면 다 나옵니다.\n",
    "- 최소 10개 이상 시각화 그래프 그려주세요!"
   ]
  },
  {
   "cell_type": "markdown",
   "id": "8a20e898",
   "metadata": {},
   "source": [
    "## 1. 히스토그램 "
   ]
  },
  {
   "cell_type": "code",
   "execution_count": 3,
   "id": "e80101e8",
   "metadata": {},
   "outputs": [],
   "source": [
    "mpg = pd.read_csv('mpg.csv')"
   ]
  },
  {
   "cell_type": "code",
   "execution_count": 52,
   "id": "26827d33",
   "metadata": {},
   "outputs": [],
   "source": [
    "for_hist = mpg.cty.drop_duplicates().head(15)"
   ]
  },
  {
   "cell_type": "code",
   "execution_count": 53,
   "id": "50a06b0d",
   "metadata": {},
   "outputs": [
    {
     "data": {
      "text/plain": [
       "0      18\n",
       "1      21\n",
       "2      20\n",
       "4      16\n",
       "10     19\n",
       "11     15\n",
       "12     17\n",
       "18     14\n",
       "19     11\n",
       "21     13\n",
       "22     12\n",
       "33     22\n",
       "54      9\n",
       "99     28\n",
       "100    24\n",
       "Name: cty, dtype: int64"
      ]
     },
     "execution_count": 53,
     "metadata": {},
     "output_type": "execute_result"
    }
   ],
   "source": [
    "for_hist"
   ]
  },
  {
   "cell_type": "code",
   "execution_count": 54,
   "id": "ff5fe120",
   "metadata": {},
   "outputs": [
    {
     "data": {
      "text/plain": [
       "Text(0, 0.5, 'how_many')"
      ]
     },
     "execution_count": 54,
     "metadata": {},
     "output_type": "execute_result"
    },
    {
     "data": {
      "image/png": "[encoded data removed]",
      "text/plain": [
       "<Figure size 432x288 with 1 Axes>"
      ]
     },
     "metadata": {
      "needs_background": "light"
     },
     "output_type": "display_data"
    }
   ],
   "source": [
    "plt.hist(for_hist,color ='salmon')\n",
    "plt.xlabel('cty_head_15')\n",
    "plt.ylabel('how_many')\n",
    "# 히스토그램 : 데이터를 넣으면 x축 왼쪽 = 데이터의 최소값, 오른쪽 = 데이터의 최대값 "
   ]
  },
  {
   "cell_type": "code",
   "execution_count": 17,
   "id": "b4887d48",
   "metadata": {},
   "outputs": [],
   "source": [
    "import random as rd"
   ]
  },
  {
   "cell_type": "code",
   "execution_count": 18,
   "id": "5c039e37",
   "metadata": {},
   "outputs": [],
   "source": [
    "a = []\n",
    "for i in range(10):\n",
    "    a.append(rd.randint(1,10))"
   ]
  },
  {
   "cell_type": "code",
   "execution_count": 23,
   "id": "ea1837af",
   "metadata": {},
   "outputs": [
    {
     "name": "stdout",
     "output_type": "stream",
     "text": [
      "[9, 4, 3, 7, 10, 9, 5, 6, 1, 3]\n"
     ]
    },
    {
     "data": {
      "text/plain": [
       "(array([1., 0., 0., 0., 2., 0., 1., 0., 1., 0., 0., 1., 0., 1., 0., 0., 0.,\n",
       "        2., 0., 1.]),\n",
       " array([ 1.  ,  1.45,  1.9 ,  2.35,  2.8 ,  3.25,  3.7 ,  4.15,  4.6 ,\n",
       "         5.05,  5.5 ,  5.95,  6.4 ,  6.85,  7.3 ,  7.75,  8.2 ,  8.65,\n",
       "         9.1 ,  9.55, 10.  ]),\n",
       " <BarContainer object of 20 artists>)"
      ]
     },
     "execution_count": 23,
     "metadata": {},
     "output_type": "execute_result"
    },
    {
     "data": {
      "image/png": "[encoded data removed]",
      "text/plain": [
       "<Figure size 432x288 with 1 Axes>"
      ]
     },
     "metadata": {
      "needs_background": "light"
     },
     "output_type": "display_data"
    }
   ],
   "source": [
    "print(a)\n",
    "plt.hist(a, bins=20,color = 'wheat')\n",
    "# bins = 막대의 너비를 나눌 때 , 즉 구간 설정 default = 10\n",
    "# 히스토그램은 데이터 하나를 x축에 넣음 => 데이터 하나만 필요 2개를 활용하고 싶다면 막대그래프 "
   ]
  },
  {
   "cell_type": "markdown",
   "id": "0fe41f52",
   "metadata": {},
   "source": [
    "## 2. 막대 그래프"
   ]
  },
  {
   "cell_type": "code",
   "execution_count": 38,
   "id": "f237263f",
   "metadata": {},
   "outputs": [],
   "source": [
    "for_bar = mpg.displ.drop_duplicates().head(12)"
   ]
  },
  {
   "cell_type": "code",
   "execution_count": 39,
   "id": "92fd456d",
   "metadata": {},
   "outputs": [
    {
     "data": {
      "text/plain": [
       "[1.8, 2.0, 2.8, 3.1, 4.2, 5.3, 5.7, 6.0, 6.2, 7.0, 6.5, 2.4]"
      ]
     },
     "execution_count": 39,
     "metadata": {},
     "output_type": "execute_result"
    }
   ],
   "source": [
    "for_bar = list(for_bar)\n",
    "for_bar\n",
    "# 월별 배기량이라고 가정 "
   ]
  },
  {
   "cell_type": "code",
   "execution_count": 28,
   "id": "c9dd8129",
   "metadata": {},
   "outputs": [],
   "source": [
    "month = list(range(1,13))"
   ]
  },
  {
   "cell_type": "code",
   "execution_count": 29,
   "id": "704b5289",
   "metadata": {},
   "outputs": [
    {
     "data": {
      "text/plain": [
       "[1, 2, 3, 4, 5, 6, 7, 8, 9, 10, 11, 12]"
      ]
     },
     "execution_count": 29,
     "metadata": {},
     "output_type": "execute_result"
    }
   ],
   "source": [
    "month"
   ]
  },
  {
   "cell_type": "code",
   "execution_count": 46,
   "id": "58d536cf",
   "metadata": {},
   "outputs": [
    {
     "data": {
      "text/plain": [
       "Text(0, 0.5, 'displ')"
      ]
     },
     "execution_count": 46,
     "metadata": {},
     "output_type": "execute_result"
    },
    {
     "data": {
      "image/png": "[encoded data removed]",
      "text/plain": [
       "<Figure size 432x288 with 1 Axes>"
      ]
     },
     "metadata": {
      "needs_background": "light"
     },
     "output_type": "display_data"
    }
   ],
   "source": [
    "plt.bar(month,for_bar,color = 'grey')\n",
    "plt.xlabel('month')\n",
    "plt.ylabel('displ')"
   ]
  },
  {
   "cell_type": "code",
   "execution_count": 68,
   "id": "5ab81d42",
   "metadata": {},
   "outputs": [
    {
     "data": {
      "text/plain": [
       "31"
      ]
     },
     "execution_count": 68,
     "metadata": {},
     "output_type": "execute_result"
    }
   ],
   "source": [
    "for_barh = mpg.hwy.head(12)\n",
    "for_barh.max()"
   ]
  },
  {
   "cell_type": "code",
   "execution_count": 75,
   "id": "de753634",
   "metadata": {},
   "outputs": [
    {
     "data": {
      "text/plain": [
       "(12.7, 0.3)"
      ]
     },
     "execution_count": 75,
     "metadata": {},
     "output_type": "execute_result"
    },
    {
     "data": {
      "image/png": "[encoded data removed]",
      "text/plain": [
       "<Figure size 432x288 with 1 Axes>"
      ]
     },
     "metadata": {
      "needs_background": "light"
     },
     "output_type": "display_data"
    }
   ],
   "source": [
    "plt.barh(month,for_barh,color='lime')\n",
    "plt.xlabel('hwy')\n",
    "plt.ylabel('month')\n",
    "plt.xlim(right=31)\n",
    "plt.ylim(top=0.3,bottom=12.7)\n",
    "# barh = 막대그래프 회전 "
   ]
  },
  {
   "cell_type": "markdown",
   "id": "459767f7",
   "metadata": {},
   "source": [
    "### 3. 막대그래프 겹쳐 그리기 "
   ]
  },
  {
   "cell_type": "code",
   "execution_count": 127,
   "id": "096dcceb",
   "metadata": {},
   "outputs": [
    {
     "data": {
      "text/plain": [
       "(0.0, 20.0)"
      ]
     },
     "execution_count": 127,
     "metadata": {},
     "output_type": "execute_result"
    },
    {
     "data": {
      "image/png": "[encoded data removed]",
      "text/plain": [
       "<Figure size 432x288 with 1 Axes>"
      ]
     },
     "metadata": {
      "needs_background": "light"
     },
     "output_type": "display_data"
    }
   ],
   "source": [
    "for_barh2 = [5,8,15,12,7,9,8,6,10,15,11,7]\n",
    "for_barh3 = [15,6,7,9,7,11,13,14,6,8,9,14]\n",
    "plt.barh(month, for_barh2,label='first year', color='lightblue')\n",
    "plt.barh(month, for_barh3,label='next year', color='pink')\n",
    "plt.legend()\n",
    "plt.xlim(right =20)\n",
    "#plt.ylim(top=15,bottom=5)\n",
    "# 이렇게 겹쳐서 표시하면 데이터가 묻혀서 표현될 수 있음 "
   ]
  },
  {
   "cell_type": "code",
   "execution_count": 125,
   "id": "798a9d92",
   "metadata": {},
   "outputs": [
    {
     "data": {
      "text/plain": [
       "<matplotlib.legend.Legend at 0x1bc730bf2e0>"
      ]
     },
     "execution_count": 125,
     "metadata": {},
     "output_type": "execute_result"
    },
    {
     "data": {
      "image/png": "[encoded data removed]",
      "text/plain": [
       "<Figure size 432x288 with 1 Axes>"
      ]
     },
     "metadata": {
      "needs_background": "light"
     },
     "output_type": "display_data"
    }
   ],
   "source": [
    "for i in range(12):\n",
    "    for_barh2[i] = -for_barh2[i]\n",
    "plt.barh(month, for_barh2,label='first year', color='lightblue')\n",
    "plt.barh(month, for_barh3,label='next year', color='pink')\n",
    "plt.legend(loc ='best')\n",
    "# 양쪽으로 보여준다면 보기 더 좋다 "
   ]
  },
  {
   "cell_type": "markdown",
   "id": "5f3d9224",
   "metadata": {},
   "source": [
    "### 4. 원 그래프 "
   ]
  },
  {
   "cell_type": "code",
   "execution_count": 134,
   "id": "9d036fed",
   "metadata": {},
   "outputs": [],
   "source": [
    "blood_type = ['A','B','AB','O']\n",
    "how_many_people = []\n",
    "for i in range(4):\n",
    "    how_many_people.append(rd.randint(1,100))"
   ]
  },
  {
   "cell_type": "code",
   "execution_count": 144,
   "id": "04b43078",
   "metadata": {},
   "outputs": [
    {
     "data": {
      "text/plain": [
       "<matplotlib.legend.Legend at 0x1bc73440550>"
      ]
     },
     "execution_count": 144,
     "metadata": {},
     "output_type": "execute_result"
    },
    {
     "data": {
      "image/png": "[encoded data removed]",
      "text/plain": [
       "<Figure size 432x288 with 1 Axes>"
      ]
     },
     "metadata": {},
     "output_type": "display_data"
    }
   ],
   "source": [
    "plt.pie(how_many_people,labels=blood_type)\n",
    "plt.title('Survey for Blood type in Data Analysis class')"
   ]
  },
  {
   "cell_type": "code",
   "execution_count": 145,
   "id": "9216390a",
   "metadata": {},
   "outputs": [
    {
     "data": {
      "text/plain": [
       "<matplotlib.legend.Legend at 0x1bc7360ec70>"
      ]
     },
     "execution_count": 145,
     "metadata": {},
     "output_type": "execute_result"
    },
    {
     "data": {
      "image/png": "[encoded data removed]",
      "text/plain": [
       "<Figure size 432x288 with 1 Axes>"
      ]
     },
     "metadata": {},
     "output_type": "display_data"
    }
   ],
   "source": [
    "plt.pie(how_many_people,autopct='%1.1f%%')\n",
    "plt.legend(blood_type)\n",
    "#autopct  =  비율 표현 인자 \n",
    "#autopct = '%.1f' 소수 첫째자리까지\n",
    "#autopct = '%.2f' 소수 둘째자리까지\n",
    "#autopct = '%.1f%%' 퍼센트까지 포함해서"
   ]
  },
  {
   "cell_type": "markdown",
   "id": "5a4bb3a8",
   "metadata": {},
   "source": [
    "### 5. 상자 수염 그림 "
   ]
  },
  {
   "cell_type": "code",
   "execution_count": 152,
   "id": "d5f12193",
   "metadata": {},
   "outputs": [
    {
     "data": {
      "text/plain": [
       "{'whiskers': [<matplotlib.lines.Line2D at 0x1bc72b36ca0>,\n",
       "  <matplotlib.lines.Line2D at 0x1bc72b5f070>],\n",
       " 'caps': [<matplotlib.lines.Line2D at 0x1bc72b5f400>,\n",
       "  <matplotlib.lines.Line2D at 0x1bc72b5f790>],\n",
       " 'boxes': [<matplotlib.lines.Line2D at 0x1bc72b36970>],\n",
       " 'medians': [<matplotlib.lines.Line2D at 0x1bc72b5fb20>],\n",
       " 'fliers': [<matplotlib.lines.Line2D at 0x1bc72b5feb0>],\n",
       " 'means': []}"
      ]
     },
     "execution_count": 152,
     "metadata": {},
     "output_type": "execute_result"
    },
    {
     "data": {
      "image/png": "[encoded data removed]",
      "text/plain": [
       "<Figure size 432x288 with 1 Axes>"
      ]
     },
     "metadata": {},
     "output_type": "display_data"
    }
   ],
   "source": [
    "sns.set(style= 'whitegrid')\n",
    "kor = [80,20,50,20,10,50,60,30,40,60]\n",
    "plt.boxplot(kor,labels=['scores of korean subject'])"
   ]
  },
  {
   "cell_type": "code",
   "execution_count": 153,
   "id": "bd305ba0",
   "metadata": {},
   "outputs": [
    {
     "data": {
      "text/plain": [
       "<AxesSubplot:ylabel='hwy'>"
      ]
     },
     "execution_count": 153,
     "metadata": {},
     "output_type": "execute_result"
    },
    {
     "data": {
      "image/png": "[encoded data removed]",
      "text/plain": [
       "<Figure size 432x288 with 1 Axes>"
      ]
     },
     "metadata": {},
     "output_type": "display_data"
    }
   ],
   "source": [
    "sns.boxplot(data=mpg, y ='hwy',color ='r')"
   ]
  },
  {
   "cell_type": "code",
   "execution_count": null,
   "id": "76417074",
   "metadata": {},
   "outputs": [],
   "source": []
  }
 ],
 "metadata": {
  "kernelspec": {
   "display_name": "Python 3 (ipykernel)",
   "language": "python",
   "name": "python3"
  },
  "language_info": {
   "codemirror_mode": {
    "name": "ipython",
    "version": 3
   },
   "file_extension": ".py",
   "mimetype": "text/x-python",
   "name": "python",
   "nbconvert_exporter": "python",
   "pygments_lexer": "ipython3",
   "version": "3.9.7"
  }
 },
 "nbformat": 4,
 "nbformat_minor": 5
}
